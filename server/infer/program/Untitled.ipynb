{
 "cells": [
  {
   "cell_type": "code",
   "execution_count": 9,
   "metadata": {},
   "outputs": [
    {
     "name": "stdout",
     "output_type": "stream",
     "text": [
      "[0.00021279 0.00021279 0.00021279 ... 0.00021279 0.00021279 0.00021279]\n",
      "757\n"
     ]
    }
   ],
   "source": [
    "import pickle\n",
    "import numpy as np\n",
    "from musicprocessor import *\n",
    "\n",
    "if __name__ == \"__main__\":\n",
    "    with open('../data/learningdata.pickle',mode='rb') as f:\n",
    "        song=pickle.load(f)\n",
    "\n",
    "    with open('../data/inference.pickle',mode='rb') as f:\n",
    "        inference=pickle.load(f)\n",
    "    print(inference)\n",
    "\n",
    "    inferredtimestamp = []\n",
    "    for i in range(inference.shape[0]):\n",
    "        if(inference[i] >= 0.5):\n",
    "            inferredtimestamp.append([i*512/44100, 2])\n",
    "\n",
    "    print(len(inferredtimestamp))\n",
    "    song.timestamp = inferredtimestamp\n",
    "    song.synthesize(diff=True)\n",
    "    song.save(\"../data/inferredmusic.wav\")"
   ]
  },
  {
   "cell_type": "code",
   "execution_count": 24,
   "metadata": {},
   "outputs": [
    {
     "data": {
      "image/png": "[encoded data removed]",
      "text/plain": [
       "<matplotlib.figure.Figure at 0x7fa2f0014550>"
      ]
     },
     "metadata": {},
     "output_type": "display_data"
    }
   ],
   "source": [
    "import matplotlib.pyplot as plt\n",
    "\n",
    "plt.plot(inference)\n",
    "plt.show()"
   ]
  },
  {
   "cell_type": "code",
   "execution_count": 15,
   "metadata": {},
   "outputs": [
    {
     "name": "stdout",
     "output_type": "stream",
     "text": [
      "[   66    76    78 ... 15725 15798 15800]\n",
      "2539\n"
     ]
    }
   ],
   "source": [
    "from scipy.signal import argrelmax\n",
    "print(argrelmax(inference)[0])\n",
    "relinf=argrelmax(inference)\n",
    "inferredtimestamp=[]\n",
    "for i in range(len(relinf[0])):\n",
    "    inferredtimestamp.append([relinf[0][i]*512/44100, 2])\n",
    "song.timestamp = inferredtimestamp\n",
    "print(len(inferredtimestamp))\n",
    "song.synthesize(diff=True)\n",
    "song.save(\"../data/inferredmusic.wav\")"
   ]
  },
  {
   "cell_type": "code",
   "execution_count": null,
   "metadata": {},
   "outputs": [],
   "source": []
  }
 ],
 "metadata": {
  "kernelspec": {
   "display_name": "Python 3",
   "language": "python",
   "name": "python3"
  },
  "language_info": {
   "codemirror_mode": {
    "name": "ipython",
    "version": 3
   },
   "file_extension": ".py",
   "mimetype": "text/x-python",
   "name": "python",
   "nbconvert_exporter": "python",
   "pygments_lexer": "ipython3",
   "version": "3.6.4"
  }
 },
 "nbformat": 4,
 "nbformat_minor": 2
}
